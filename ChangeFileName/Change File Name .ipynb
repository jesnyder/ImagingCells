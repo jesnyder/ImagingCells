{
 "cells": [
  {
   "cell_type": "code",
   "execution_count": 1,
   "metadata": {},
   "outputs": [],
   "source": [
    "import os, sys\n"
   ]
  },
  {
   "cell_type": "code",
   "execution_count": 2,
   "metadata": {},
   "outputs": [
    {
     "name": "stdout",
     "output_type": "stream",
     "text": [
      "['0', '6', '1', '4', '3', '2', '5']\n"
     ]
    }
   ],
   "source": [
    "import os, sys\n",
    "\n",
    "def rename_file_to_integers():\n",
    "    \n",
    "    path = \"Image/\"\n",
    "    dirs = os.listdir(path)\n",
    "    \n",
    "    f = []; \n",
    "    \n",
    "    \n",
    "    for file in dirs:\n",
    "        f.append(file)\n",
    "        \n",
    "    count = 0; \n",
    "    for name in f:\n",
    "        newname = str(count).zfill(4)\n",
    "        os.rename(os.path.join(path,name), os.path.join(path, newname))\n",
    "        count = count + 1\n",
    "    \n",
    "    print(f)\n",
    "    \n",
    "    \n",
    "main()\n",
    "\n",
    "    \n"
   ]
  }
 ],
 "metadata": {
  "kernelspec": {
   "display_name": "Python 3",
   "language": "python",
   "name": "python3"
  },
  "language_info": {
   "codemirror_mode": {
    "name": "ipython",
    "version": 3
   },
   "file_extension": ".py",
   "mimetype": "text/x-python",
   "name": "python",
   "nbconvert_exporter": "python",
   "pygments_lexer": "ipython3",
   "version": "3.6.3"
  }
 },
 "nbformat": 4,
 "nbformat_minor": 2
}
